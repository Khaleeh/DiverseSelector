{
 "cells": [
  {
   "cell_type": "code",
   "execution_count": 2,
   "metadata": {},
   "outputs": [
    {
     "name": "stderr",
     "output_type": "stream",
     "text": [
      "/Users/hasankhaleel/VScode_repos/DiverseSelector/DiverseSelector/metric.py:31: DeprecationWarning: The rdkit.Chem.MCS module is deprecated; please use rdkit.Chem.rdFMCS instead.\n",
      "  from rdkit.Chem import MCS\n"
     ]
    }
   ],
   "source": [
    "from DiverseSelector.metric import (bit_tanimoto,\n",
    "                                    ComputeDistanceMatrix,\n",
    "                                    distance_to_similarity,\n",
    "                                    entropy,\n",
    "                                    euc_bit,\n",
    "                                    logdet,\n",
    "                                    modified_tanimoto,\n",
    "                                    pairwise_similarity_bit,\n",
    "                                    shannon_entropy,\n",
    "                                    tanimoto,\n",
    "                                    total_diversity_volume,\n",
    "                                    )\n",
    "\n",
    "from DiverseSelector.feature import (DescriptorGenerator,\n",
    "                                     feature_reader,\n",
    "                                     FingerprintGenerator,\n",
    "                                     get_features,\n",
    "                                     )"
   ]
  },
  {
   "cell_type": "code",
   "execution_count": 3,
   "metadata": {},
   "outputs": [],
   "source": [
    "descriptor_1 = get_features(mol_file= \"/Users/hasankhaleel/VScode_repos/DiverseSelector/DiverseSelector/test/data/drugbank_sample_set.sdf\",\n",
    "                                          feature_type=\"descriptor\",\n",
    "                                          desc_type=\"rdkit_frag\",\n",
    "                                          use_fragment=True,\n",
    "                                          ipc_avg=True)\n",
    "\n",
    "fingerprint_1 = get_features(mol_file= \"/Users/hasankhaleel/VScode_repos/DiverseSelector/DiverseSelector/test/data/drugbank_sample_set.sdf\",\n",
    "                                          feature_type=\"fingerprint\")\n",
    "\n",
    "descriptor_2 = get_features(mol_file= \"/Users/hasankhaleel/VScode_repos/DiverseSelector/DiverseSelector/test/data/drugbank_sample_set_2.sdf\",\n",
    "                                          feature_type=\"descriptor\",\n",
    "                                          desc_type=\"rdkit_frag\",\n",
    "                                          use_fragment=True,\n",
    "                                          ipc_avg=True)\n",
    "\n",
    "fingerprint_2 = get_features(mol_file= \"/Users/hasankhaleel/VScode_repos/DiverseSelector/DiverseSelector/test/data/drugbank_sample_set_2.sdf\",\n",
    "                                          feature_type=\"fingerprint\")"
   ]
  },
  {
   "cell_type": "markdown",
   "metadata": {},
   "source": [
    "#### Euclidean distance\n",
    "$$D_{a, b} =\\Bigg[\\displaystyle\\sum_{j=1}^{n} (X_{ja} - X_{jb})^2\\Bigg]^{0.5} $$"
   ]
  },
  {
   "cell_type": "code",
   "execution_count": 4,
   "metadata": {},
   "outputs": [
    {
     "name": "stdout",
     "output_type": "stream",
     "text": [
      "[[ 0.         63.82763257 16.31033535 ... 11.69751122  6.85761877\n",
      "  18.96320907]\n",
      " [63.82763257  0.         78.90973652 ... 74.58822551 62.77429442\n",
      "  81.93588319]\n",
      " [16.31033535 78.90973652  0.         ...  6.59567814 17.40944959\n",
      "   5.21669579]\n",
      " ...\n",
      " [11.69751122 74.58822551  6.59567814 ...  0.         13.00320589\n",
      "   8.43577609]\n",
      " [ 6.85761877 62.77429442 17.40944959 ... 13.00320589  0.\n",
      "  19.78386583]\n",
      " [18.96320907 81.93588319  5.21669579 ...  8.43577609 19.78386583\n",
      "   0.        ]]\n"
     ]
    }
   ],
   "source": [
    "sci_dist_1 = ComputeDistanceMatrix(descriptor_1, \"euclidean\")\n",
    "desc_1 = sci_dist_1.compute_distance()\n",
    "sci_dist_2 = ComputeDistanceMatrix(descriptor_2, \"euclidean\")\n",
    "desc_2 = sci_dist_2.compute_distance()\n",
    "print(desc_1)"
   ]
  },
  {
   "cell_type": "markdown",
   "metadata": {},
   "source": [
    "#### Tanimoto similarity\n",
    "$$ S_{a,b} =\\frac{\\Bigg[\\displaystyle\\sum_{j=1}^{n} X_{ja} X_{jb}\\Bigg]}{\\Bigg[\\displaystyle\\sum_{j=1}^{n} (X_{ja})^2 + \\displaystyle\\sum_{j=1}^{n} (X_{jb})^2 - \\displaystyle\\sum_{j=1}^{n} X_{ja} X_{jb}\\Bigg]}$$"
   ]
  },
  {
   "cell_type": "code",
   "execution_count": 13,
   "metadata": {},
   "outputs": [
    {
     "name": "stdout",
     "output_type": "stream",
     "text": [
      "[[1.         0.96078431 0.96078431 ... 0.96078431 0.96078431 0.96078431]\n",
      " [0.96078431 1.         0.96078431 ... 0.96078431 0.96078431 0.96078431]\n",
      " [0.96078431 0.96078431 1.         ... 0.96078431 0.96078431 0.96078431]\n",
      " ...\n",
      " [0.96078431 0.96078431 0.96078431 ... 1.         0.96078431 0.96078431]\n",
      " [0.96078431 0.96078431 0.96078431 ... 0.96078431 1.         0.96078431]\n",
      " [0.96078431 0.96078431 0.96078431 ... 0.96078431 0.96078431 1.        ]]\n"
     ]
    }
   ],
   "source": [
    "tanimoto_similarity_1 = pairwise_similarity_bit(desc_1, tanimoto)\n",
    "tanimoto_similarity_2 = pairwise_similarity_bit(desc_2, tanimoto)\n",
    "print(tanimoto_similarity_2)"
   ]
  },
  {
   "cell_type": "markdown",
   "metadata": {},
   "source": [
    "#### Modified Tanimoto similarity\n",
    "$$ MT = \\Big(\\frac{2-p}{3}\\Big)T_1 + \\Big(\\frac{1+p}{3}\\Big)T_0 $$\n",
    "$$ p = \\frac{\\displaystyle\\sum_{l=1}^{n}X_{il} + \\displaystyle\\sum_{l=1}^{n}X_{jl}}{2n}$$\n",
    "$$ T_1 = \\frac{\\displaystyle\\sum_{l=1}^{n}X_{il}X_{jl}}{n - \\displaystyle\\sum_{l=1}^{n}(1 - X_{il})(1 - X_{jl})} $$\n",
    "$$  T_0 = \\frac{\\displaystyle\\sum_{l=1}^{n}(1 - X_{il})(1 - X_{jl})}{n - \\displaystyle\\sum_{l=1}^{n}X_{il}X_{jl}} $$"
   ]
  },
  {
   "cell_type": "code",
   "execution_count": 14,
   "metadata": {},
   "outputs": [
    {
     "name": "stdout",
     "output_type": "stream",
     "text": [
      "[[1.         0.33000128 0.33000128 ... 1.         0.32654107 0.31923619]\n",
      " [0.33000128 1.         0.32654107 ... 0.33000128 0.32295271 0.31539152]\n",
      " [0.33000128 0.32654107 1.         ... 0.33000128 0.32295271 0.31539152]\n",
      " ...\n",
      " [1.         0.33000128 0.33000128 ... 1.         0.32654107 0.31923619]\n",
      " [0.32654107 0.32295271 0.32295271 ... 0.32654107 1.         0.31141869]\n",
      " [0.31923619 0.31539152 0.31539152 ... 0.31923619 0.31141869 1.        ]]\n"
     ]
    }
   ],
   "source": [
    "similarity_modified_tanimoto_1 = pairwise_similarity_bit(fingerprint_1, modified_tanimoto)\n",
    "similarity_modified_tanimoto_2 = pairwise_similarity_bit(fingerprint_2, modified_tanimoto)\n",
    "print(similarity_modified_tanimoto_2)"
   ]
  },
  {
   "cell_type": "markdown",
   "metadata": {},
   "source": [
    "#### Log-determinant fucntion\n",
    "$$f_{logdet}(S) = log det(X[S]^TX[S]+I[S]) $$"
   ]
  },
  {
   "cell_type": "code",
   "execution_count": 7,
   "metadata": {},
   "outputs": [
    {
     "name": "stdout",
     "output_type": "stream",
     "text": [
      "98.97936193428563 112.87396744628899\n"
     ]
    }
   ],
   "source": [
    "logdet_diversity_1 = logdet(desc_1)\n",
    "logdet_diversity_2 = logdet(desc_2)\n",
    "print(logdet_diversity_1, logdet_diversity_2)"
   ]
  },
  {
   "cell_type": "markdown",
   "metadata": {},
   "source": [
    "#### Entropy\n",
    "$$ E = -\\frac{\\displaystyle\\sum_{}^{}\\frac{y_i}{N}ln\\frac{y_i}{N}}{L\\frac{ln2}{2}} $$"
   ]
  },
  {
   "cell_type": "code",
   "execution_count": 8,
   "metadata": {},
   "outputs": [
    {
     "name": "stdout",
     "output_type": "stream",
     "text": [
      "0.059364799312260255 0.05491955439594571\n"
     ]
    }
   ],
   "source": [
    "entropy_diversity_1 = entropy(desc_1)\n",
    "entropy_diversity_2 = entropy(desc_2)\n",
    "print(entropy_diversity_1, entropy_diversity_2)\n",
    "# 0 is low divesrity, 1 is high divesrity"
   ]
  },
  {
   "cell_type": "markdown",
   "metadata": {},
   "source": [
    "#### Shannon Entropy\n",
    "$$ H(X) = \\displaystyle\\sum_{n}^{i = 1} -\\frac{C_i(X)}{|X|}log\\frac{C_i(X)}{|X|}"
   ]
  },
  {
   "cell_type": "code",
   "execution_count": 9,
   "metadata": {},
   "outputs": [
    {
     "name": "stdout",
     "output_type": "stream",
     "text": [
      "0.44676463198907096 0.42157704715282207\n"
     ]
    }
   ],
   "source": [
    "shannon_entropy_diversity_1 = shannon_entropy(desc_1)\n",
    "shannon_entropy_diversity_2 = shannon_entropy(desc_2)\n",
    "print(shannon_entropy_diversity_1, shannon_entropy_diversity_2)\n",
    "# 0 is low divesrity, 1 is high divesrity"
   ]
  },
  {
   "cell_type": "markdown",
   "metadata": {},
   "source": [
    "#### Total Diversity Volume\n",
    "$$g(S) = \\displaystyle\\sum_{i<j}^{k}O(i,j)$$\n",
    "$$O(i,j) = \n",
    "\\begin{cases}\n",
    "min(100,2r_0/r_{ij} - 1) & r_{ij}\\leq2r_0 \\\\\n",
    "0 & r_{ij} > r_0\n",
    "\\end{cases}\n",
    "$$\n",
    "$$\n",
    "r_0 = d \\sqrt{\\frac{1}{k}}"
   ]
  },
  {
   "cell_type": "code",
   "execution_count": 10,
   "metadata": {},
   "outputs": [
    {
     "name": "stdout",
     "output_type": "stream",
     "text": [
      "10839.83671769063 11811.036392347618\n"
     ]
    }
   ],
   "source": [
    "total_diversity_1 = total_diversity_volume(desc_1)\n",
    "total_diversity_2 = total_diversity_volume(desc_2)\n",
    "print(total_diversity_1, total_diversity_2)\n",
    "# low volume means less diversity"
   ]
  }
 ],
 "metadata": {
  "interpreter": {
   "hash": "f3152add6ed381a6ff3b812c0ae02f755ee7e7ca400bbc56f6207376ccfaf514"
  },
  "kernelspec": {
   "display_name": "Python 3.7.11 ('DS')",
   "language": "python",
   "name": "python3"
  },
  "language_info": {
   "codemirror_mode": {
    "name": "ipython",
    "version": 3
   },
   "file_extension": ".py",
   "mimetype": "text/x-python",
   "name": "python",
   "nbconvert_exporter": "python",
   "pygments_lexer": "ipython3",
   "version": "3.7.11"
  },
  "orig_nbformat": 4
 },
 "nbformat": 4,
 "nbformat_minor": 2
}
